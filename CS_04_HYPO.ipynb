{
  "nbformat": 4,
  "nbformat_minor": 0,
  "metadata": {
    "colab": {
      "name": "CS_04-HYPO.ipynb",
      "provenance": [],
      "collapsed_sections": []
    },
    "kernelspec": {
      "name": "python3",
      "display_name": "Python 3"
    },
    "language_info": {
      "name": "python"
    }
  },
  "cells": [
    {
      "cell_type": "markdown",
      "source": [
        "#Case Study #04 - Hypothesis Testing"
      ],
      "metadata": {
        "id": "uwB-VkQWuRcE"
      }
    },
    {
      "cell_type": "code",
      "source": [
        "from scipy import stats\n",
        "import pandas as pd\n",
        "import matplotlib.pyplot as plt \n",
        "import numpy as np \n",
        "import seaborn as sns"
      ],
      "metadata": {
        "id": "8s4ftd50wX_k"
      },
      "execution_count": 4,
      "outputs": []
    },
    {
      "cell_type": "markdown",
      "source": [
        "1. The company wishes to clarify whether there is any increase in sales after stepping into digital marketing.\n"
      ],
      "metadata": {
        "id": "YNe2Bko9u4ip"
      }
    },
    {
      "cell_type": "code",
      "source": [
        "data=pd.read_csv(\"/content/Sales_add.csv\")"
      ],
      "metadata": {
        "id": "bEKo9XCIxhB8"
      },
      "execution_count": 3,
      "outputs": []
    },
    {
      "cell_type": "code",
      "source": [
        "data"
      ],
      "metadata": {
        "colab": {
          "base_uri": "https://localhost:8080/",
          "height": 1000
        },
        "id": "964c5R-8zVh4",
        "outputId": "845d70e2-28ac-41e4-ce8e-12df431c4104"
      },
      "execution_count": null,
      "outputs": [
        {
          "output_type": "execute_result",
          "data": {
            "text/html": [
              "<div>\n",
              "<style scoped>\n",
              "    .dataframe tbody tr th:only-of-type {\n",
              "        vertical-align: middle;\n",
              "    }\n",
              "\n",
              "    .dataframe tbody tr th {\n",
              "        vertical-align: top;\n",
              "    }\n",
              "\n",
              "    .dataframe thead th {\n",
              "        text-align: right;\n",
              "    }\n",
              "</style>\n",
              "<table border=\"1\" class=\"dataframe\">\n",
              "  <thead>\n",
              "    <tr style=\"text-align: right;\">\n",
              "      <th></th>\n",
              "      <th>Month</th>\n",
              "      <th>Region</th>\n",
              "      <th>Manager</th>\n",
              "      <th>Sales_before_digital_add(in $)</th>\n",
              "      <th>Sales_After_digital_add(in $)</th>\n",
              "    </tr>\n",
              "  </thead>\n",
              "  <tbody>\n",
              "    <tr>\n",
              "      <th>0</th>\n",
              "      <td>Month-1</td>\n",
              "      <td>Region - A</td>\n",
              "      <td>Manager - A</td>\n",
              "      <td>132921</td>\n",
              "      <td>270390</td>\n",
              "    </tr>\n",
              "    <tr>\n",
              "      <th>1</th>\n",
              "      <td>Month-2</td>\n",
              "      <td>Region - A</td>\n",
              "      <td>Manager - C</td>\n",
              "      <td>149559</td>\n",
              "      <td>223334</td>\n",
              "    </tr>\n",
              "    <tr>\n",
              "      <th>2</th>\n",
              "      <td>Month-3</td>\n",
              "      <td>Region - B</td>\n",
              "      <td>Manager - A</td>\n",
              "      <td>146278</td>\n",
              "      <td>244243</td>\n",
              "    </tr>\n",
              "    <tr>\n",
              "      <th>3</th>\n",
              "      <td>Month-4</td>\n",
              "      <td>Region - B</td>\n",
              "      <td>Manager - B</td>\n",
              "      <td>152167</td>\n",
              "      <td>231808</td>\n",
              "    </tr>\n",
              "    <tr>\n",
              "      <th>4</th>\n",
              "      <td>Month-5</td>\n",
              "      <td>Region - C</td>\n",
              "      <td>Manager - B</td>\n",
              "      <td>159525</td>\n",
              "      <td>258402</td>\n",
              "    </tr>\n",
              "    <tr>\n",
              "      <th>5</th>\n",
              "      <td>Month-6</td>\n",
              "      <td>Region - A</td>\n",
              "      <td>Manager - B</td>\n",
              "      <td>137163</td>\n",
              "      <td>256948</td>\n",
              "    </tr>\n",
              "    <tr>\n",
              "      <th>6</th>\n",
              "      <td>Month-7</td>\n",
              "      <td>Region - C</td>\n",
              "      <td>Manager - C</td>\n",
              "      <td>130625</td>\n",
              "      <td>222106</td>\n",
              "    </tr>\n",
              "    <tr>\n",
              "      <th>7</th>\n",
              "      <td>Month-8</td>\n",
              "      <td>Region - A</td>\n",
              "      <td>Manager - A</td>\n",
              "      <td>131140</td>\n",
              "      <td>230637</td>\n",
              "    </tr>\n",
              "    <tr>\n",
              "      <th>8</th>\n",
              "      <td>Month-9</td>\n",
              "      <td>Region - B</td>\n",
              "      <td>Manager - C</td>\n",
              "      <td>171259</td>\n",
              "      <td>226261</td>\n",
              "    </tr>\n",
              "    <tr>\n",
              "      <th>9</th>\n",
              "      <td>Month-10</td>\n",
              "      <td>Region - C</td>\n",
              "      <td>Manager - B</td>\n",
              "      <td>141956</td>\n",
              "      <td>193735</td>\n",
              "    </tr>\n",
              "    <tr>\n",
              "      <th>10</th>\n",
              "      <td>Month-11</td>\n",
              "      <td>Region - B</td>\n",
              "      <td>Manager - C</td>\n",
              "      <td>159339</td>\n",
              "      <td>203175</td>\n",
              "    </tr>\n",
              "    <tr>\n",
              "      <th>11</th>\n",
              "      <td>Month-12</td>\n",
              "      <td>Region - A</td>\n",
              "      <td>Manager - A</td>\n",
              "      <td>178939</td>\n",
              "      <td>276279</td>\n",
              "    </tr>\n",
              "    <tr>\n",
              "      <th>12</th>\n",
              "      <td>Month-13</td>\n",
              "      <td>Region - B</td>\n",
              "      <td>Manager - A</td>\n",
              "      <td>145062</td>\n",
              "      <td>205180</td>\n",
              "    </tr>\n",
              "    <tr>\n",
              "      <th>13</th>\n",
              "      <td>Month-14</td>\n",
              "      <td>Region - A</td>\n",
              "      <td>Manager - A</td>\n",
              "      <td>151514</td>\n",
              "      <td>253131</td>\n",
              "    </tr>\n",
              "    <tr>\n",
              "      <th>14</th>\n",
              "      <td>Month-15</td>\n",
              "      <td>Region - C</td>\n",
              "      <td>Manager - A</td>\n",
              "      <td>147463</td>\n",
              "      <td>229336</td>\n",
              "    </tr>\n",
              "    <tr>\n",
              "      <th>15</th>\n",
              "      <td>Month-16</td>\n",
              "      <td>Region - A</td>\n",
              "      <td>Manager - B</td>\n",
              "      <td>177195</td>\n",
              "      <td>187305</td>\n",
              "    </tr>\n",
              "    <tr>\n",
              "      <th>16</th>\n",
              "      <td>Month-17</td>\n",
              "      <td>Region - A</td>\n",
              "      <td>Manager - C</td>\n",
              "      <td>140862</td>\n",
              "      <td>234908</td>\n",
              "    </tr>\n",
              "    <tr>\n",
              "      <th>17</th>\n",
              "      <td>Month-18</td>\n",
              "      <td>Region - C</td>\n",
              "      <td>Manager - B</td>\n",
              "      <td>167996</td>\n",
              "      <td>191517</td>\n",
              "    </tr>\n",
              "    <tr>\n",
              "      <th>18</th>\n",
              "      <td>Month-19</td>\n",
              "      <td>Region - B</td>\n",
              "      <td>Manager - A</td>\n",
              "      <td>132135</td>\n",
              "      <td>227040</td>\n",
              "    </tr>\n",
              "    <tr>\n",
              "      <th>19</th>\n",
              "      <td>Month-20</td>\n",
              "      <td>Region - A</td>\n",
              "      <td>Manager - B</td>\n",
              "      <td>152493</td>\n",
              "      <td>212579</td>\n",
              "    </tr>\n",
              "    <tr>\n",
              "      <th>20</th>\n",
              "      <td>Month-21</td>\n",
              "      <td>Region - B</td>\n",
              "      <td>Manager - A</td>\n",
              "      <td>147425</td>\n",
              "      <td>263388</td>\n",
              "    </tr>\n",
              "    <tr>\n",
              "      <th>21</th>\n",
              "      <td>Month-22</td>\n",
              "      <td>Region - A</td>\n",
              "      <td>Manager - C</td>\n",
              "      <td>130263</td>\n",
              "      <td>243020</td>\n",
              "    </tr>\n",
              "  </tbody>\n",
              "</table>\n",
              "</div>"
            ],
            "text/plain": [
              "       Month  ... Sales_After_digital_add(in $)\n",
              "0    Month-1  ...                        270390\n",
              "1    Month-2  ...                        223334\n",
              "2    Month-3  ...                        244243\n",
              "3    Month-4  ...                        231808\n",
              "4    Month-5  ...                        258402\n",
              "5    Month-6  ...                        256948\n",
              "6    Month-7  ...                        222106\n",
              "7    Month-8  ...                        230637\n",
              "8    Month-9  ...                        226261\n",
              "9   Month-10  ...                        193735\n",
              "10  Month-11  ...                        203175\n",
              "11  Month-12  ...                        276279\n",
              "12  Month-13  ...                        205180\n",
              "13  Month-14  ...                        253131\n",
              "14  Month-15  ...                        229336\n",
              "15  Month-16  ...                        187305\n",
              "16  Month-17  ...                        234908\n",
              "17  Month-18  ...                        191517\n",
              "18  Month-19  ...                        227040\n",
              "19  Month-20  ...                        212579\n",
              "20  Month-21  ...                        263388\n",
              "21  Month-22  ...                        243020\n",
              "\n",
              "[22 rows x 5 columns]"
            ]
          },
          "metadata": {},
          "execution_count": 3
        }
      ]
    },
    {
      "cell_type": "code",
      "source": [
        "data.describe()"
      ],
      "metadata": {
        "colab": {
          "base_uri": "https://localhost:8080/",
          "height": 335
        },
        "id": "mG9vcxKdxqNb",
        "outputId": "b2f7f8bb-c957-4871-dbb7-7046c02d48b5"
      },
      "execution_count": null,
      "outputs": [
        {
          "output_type": "execute_result",
          "data": {
            "text/html": [
              "<div>\n",
              "<style scoped>\n",
              "    .dataframe tbody tr th:only-of-type {\n",
              "        vertical-align: middle;\n",
              "    }\n",
              "\n",
              "    .dataframe tbody tr th {\n",
              "        vertical-align: top;\n",
              "    }\n",
              "\n",
              "    .dataframe thead th {\n",
              "        text-align: right;\n",
              "    }\n",
              "</style>\n",
              "<table border=\"1\" class=\"dataframe\">\n",
              "  <thead>\n",
              "    <tr style=\"text-align: right;\">\n",
              "      <th></th>\n",
              "      <th>Sales_before_digital_add(in $)</th>\n",
              "      <th>Sales_After_digital_add(in $)</th>\n",
              "    </tr>\n",
              "  </thead>\n",
              "  <tbody>\n",
              "    <tr>\n",
              "      <th>count</th>\n",
              "      <td>22.000000</td>\n",
              "      <td>22.000000</td>\n",
              "    </tr>\n",
              "    <tr>\n",
              "      <th>mean</th>\n",
              "      <td>149239.954545</td>\n",
              "      <td>231123.727273</td>\n",
              "    </tr>\n",
              "    <tr>\n",
              "      <th>std</th>\n",
              "      <td>14844.042921</td>\n",
              "      <td>25556.777061</td>\n",
              "    </tr>\n",
              "    <tr>\n",
              "      <th>min</th>\n",
              "      <td>130263.000000</td>\n",
              "      <td>187305.000000</td>\n",
              "    </tr>\n",
              "    <tr>\n",
              "      <th>25%</th>\n",
              "      <td>138087.750000</td>\n",
              "      <td>214960.750000</td>\n",
              "    </tr>\n",
              "    <tr>\n",
              "      <th>50%</th>\n",
              "      <td>147444.000000</td>\n",
              "      <td>229986.500000</td>\n",
              "    </tr>\n",
              "    <tr>\n",
              "      <th>75%</th>\n",
              "      <td>157627.500000</td>\n",
              "      <td>250909.000000</td>\n",
              "    </tr>\n",
              "    <tr>\n",
              "      <th>max</th>\n",
              "      <td>178939.000000</td>\n",
              "      <td>276279.000000</td>\n",
              "    </tr>\n",
              "  </tbody>\n",
              "</table>\n",
              "</div>"
            ],
            "text/plain": [
              "       Sales_before_digital_add(in $)  Sales_After_digital_add(in $)\n",
              "count                       22.000000                      22.000000\n",
              "mean                    149239.954545                  231123.727273\n",
              "std                      14844.042921                   25556.777061\n",
              "min                     130263.000000                  187305.000000\n",
              "25%                     138087.750000                  214960.750000\n",
              "50%                     147444.000000                  229986.500000\n",
              "75%                     157627.500000                  250909.000000\n",
              "max                     178939.000000                  276279.000000"
            ]
          },
          "metadata": {},
          "execution_count": 6
        }
      ]
    },
    {
      "cell_type": "code",
      "source": [
        "boxplot=data.boxplot(column=['Sales_before_digital_add(in $)','Sales_After_digital_add(in $)'])"
      ],
      "metadata": {
        "colab": {
          "base_uri": "https://localhost:8080/",
          "height": 266
        },
        "id": "OYk_WUGOvjxw",
        "outputId": "40ff0c75-593c-4a89-f4b4-d91c48ada382"
      },
      "execution_count": 5,
      "outputs": [
        {
          "output_type": "display_data",
          "data": {
            "image/png": "[encoded data removed]",
            "text/plain": [
              "<Figure size 432x288 with 1 Axes>"
            ]
          },
          "metadata": {
            "needs_background": "light"
          }
        }
      ]
    },
    {
      "cell_type": "markdown",
      "source": [
        "Here we conduct paired sample T test for analysing the data\n",
        "\n",
        "h0:There is no significant differnce between Sales_before_digital_add and Sales_After_digital_add\n",
        "\n",
        "h1:there is asignificant differnce between Sales_before_digital_add and Sales_After_digital_add"
      ],
      "metadata": {
        "id": "Nqd33bpoydBA"
      }
    },
    {
      "cell_type": "code",
      "source": [
        "t_value,p_value=stats.ttest_rel(data['Sales_before_digital_add(in $)'],data['Sales_After_digital_add(in $)'])"
      ],
      "metadata": {
        "id": "nwfBQNC0ulDE"
      },
      "execution_count": 6,
      "outputs": []
    },
    {
      "cell_type": "code",
      "source": [
        "print(\"t_value is \",t_value)\n",
        "print(\"p_value is \",p_value)"
      ],
      "metadata": {
        "colab": {
          "base_uri": "https://localhost:8080/"
        },
        "id": "ycbIyO6Fukug",
        "outputId": "dedd1fa1-4bf7-408e-ddf4-0afbb3351b86"
      },
      "execution_count": 7,
      "outputs": [
        {
          "output_type": "stream",
          "name": "stdout",
          "text": [
            "t_value is  -12.09070525287017\n",
            "p_value is  6.336667004575778e-11\n"
          ]
        }
      ]
    },
    {
      "cell_type": "markdown",
      "source": [
        "Since pvalue<0.05 we reject null hypothesis, so we conclude there is significant differnce between Sales_before_digital_add and Sales_After_digital_add"
      ],
      "metadata": {
        "id": "Wx3NJlExz9b1"
      }
    },
    {
      "cell_type": "markdown",
      "source": [
        " 2.The company needs to check whether there is any dependency between the\n",
        "features “Region” and “Manager”."
      ],
      "metadata": {
        "id": "W9-6_M2X0YJW"
      }
    },
    {
      "cell_type": "code",
      "source": [
        "sns.barplot(x=\"Region\",y=\"Sales_After_digital_add(in $)\",hue=\"Manager\",data=data)"
      ],
      "metadata": {
        "colab": {
          "base_uri": "https://localhost:8080/",
          "height": 296
        },
        "id": "3H8f_Mv52PvD",
        "outputId": "25cc1f75-d995-4a45-a3d4-0ce8af95a7b1"
      },
      "execution_count": 8,
      "outputs": [
        {
          "output_type": "execute_result",
          "data": {
            "text/plain": [
              "<matplotlib.axes._subplots.AxesSubplot at 0x7efdcbcd1b90>"
            ]
          },
          "metadata": {},
          "execution_count": 8
        },
        {
          "output_type": "display_data",
          "data": {
            "image/png": "[encoded data removed]",
            "text/plain": [
              "<Figure size 432x288 with 1 Axes>"
            ]
          },
          "metadata": {
            "needs_background": "light"
          }
        }
      ]
    },
    {
      "cell_type": "code",
      "source": [
        "# h0:There is no  dependency between the features “Region” and “Manager”.\n",
        "\n",
        "# h1:there is dependency between the features “Region” and “Manager”."
      ],
      "metadata": {
        "id": "IRSSj2Xa0nsZ"
      },
      "execution_count": null,
      "outputs": []
    },
    {
      "cell_type": "markdown",
      "source": [
        "Here we check Manager A with Region A and B"
      ],
      "metadata": {
        "id": "Mbq75TRV1BGE"
      }
    },
    {
      "cell_type": "code",
      "source": [
        "RegionAMA=data[(data[\"Region\"]==\"Region - A\") & (data[\"Manager\"]==\"Manager - A\")]"
      ],
      "metadata": {
        "id": "xdODA_uH6doG"
      },
      "execution_count": null,
      "outputs": []
    },
    {
      "cell_type": "code",
      "source": [
        "RegionAMA"
      ],
      "metadata": {
        "colab": {
          "base_uri": "https://localhost:8080/",
          "height": 279
        },
        "id": "QM-ilYXH_9ZF",
        "outputId": "91d10177-227f-4e09-e710-618a309f65b5"
      },
      "execution_count": null,
      "outputs": [
        {
          "output_type": "execute_result",
          "data": {
            "text/html": [
              "<div>\n",
              "<style scoped>\n",
              "    .dataframe tbody tr th:only-of-type {\n",
              "        vertical-align: middle;\n",
              "    }\n",
              "\n",
              "    .dataframe tbody tr th {\n",
              "        vertical-align: top;\n",
              "    }\n",
              "\n",
              "    .dataframe thead th {\n",
              "        text-align: right;\n",
              "    }\n",
              "</style>\n",
              "<table border=\"1\" class=\"dataframe\">\n",
              "  <thead>\n",
              "    <tr style=\"text-align: right;\">\n",
              "      <th></th>\n",
              "      <th>Month</th>\n",
              "      <th>Region</th>\n",
              "      <th>Manager</th>\n",
              "      <th>Sales_before_digital_add(in $)</th>\n",
              "      <th>Sales_After_digital_add(in $)</th>\n",
              "    </tr>\n",
              "  </thead>\n",
              "  <tbody>\n",
              "    <tr>\n",
              "      <th>0</th>\n",
              "      <td>Month-1</td>\n",
              "      <td>Region - A</td>\n",
              "      <td>Manager - A</td>\n",
              "      <td>132921</td>\n",
              "      <td>270390</td>\n",
              "    </tr>\n",
              "    <tr>\n",
              "      <th>7</th>\n",
              "      <td>Month-8</td>\n",
              "      <td>Region - A</td>\n",
              "      <td>Manager - A</td>\n",
              "      <td>131140</td>\n",
              "      <td>230637</td>\n",
              "    </tr>\n",
              "    <tr>\n",
              "      <th>11</th>\n",
              "      <td>Month-12</td>\n",
              "      <td>Region - A</td>\n",
              "      <td>Manager - A</td>\n",
              "      <td>178939</td>\n",
              "      <td>276279</td>\n",
              "    </tr>\n",
              "    <tr>\n",
              "      <th>13</th>\n",
              "      <td>Month-14</td>\n",
              "      <td>Region - A</td>\n",
              "      <td>Manager - A</td>\n",
              "      <td>151514</td>\n",
              "      <td>253131</td>\n",
              "    </tr>\n",
              "  </tbody>\n",
              "</table>\n",
              "</div>"
            ],
            "text/plain": [
              "       Month  ... Sales_After_digital_add(in $)\n",
              "0    Month-1  ...                        270390\n",
              "7    Month-8  ...                        230637\n",
              "11  Month-12  ...                        276279\n",
              "13  Month-14  ...                        253131\n",
              "\n",
              "[4 rows x 5 columns]"
            ]
          },
          "metadata": {},
          "execution_count": 9
        }
      ]
    },
    {
      "cell_type": "code",
      "source": [
        "RegionBMA=data[(data[\"Region\"]==\"Region - B\") & (data[\"Manager\"]==\"Manager - A\")]"
      ],
      "metadata": {
        "id": "XIO9JwWR8ykW"
      },
      "execution_count": null,
      "outputs": []
    },
    {
      "cell_type": "code",
      "source": [
        "RegionBMA"
      ],
      "metadata": {
        "colab": {
          "base_uri": "https://localhost:8080/",
          "height": 279
        },
        "id": "R0r_U6Y989Yi",
        "outputId": "7d02ec9d-bc68-47e5-9551-e1449db716c6"
      },
      "execution_count": null,
      "outputs": [
        {
          "output_type": "execute_result",
          "data": {
            "text/html": [
              "<div>\n",
              "<style scoped>\n",
              "    .dataframe tbody tr th:only-of-type {\n",
              "        vertical-align: middle;\n",
              "    }\n",
              "\n",
              "    .dataframe tbody tr th {\n",
              "        vertical-align: top;\n",
              "    }\n",
              "\n",
              "    .dataframe thead th {\n",
              "        text-align: right;\n",
              "    }\n",
              "</style>\n",
              "<table border=\"1\" class=\"dataframe\">\n",
              "  <thead>\n",
              "    <tr style=\"text-align: right;\">\n",
              "      <th></th>\n",
              "      <th>Month</th>\n",
              "      <th>Region</th>\n",
              "      <th>Manager</th>\n",
              "      <th>Sales_before_digital_add(in $)</th>\n",
              "      <th>Sales_After_digital_add(in $)</th>\n",
              "    </tr>\n",
              "  </thead>\n",
              "  <tbody>\n",
              "    <tr>\n",
              "      <th>2</th>\n",
              "      <td>Month-3</td>\n",
              "      <td>Region - B</td>\n",
              "      <td>Manager - A</td>\n",
              "      <td>146278</td>\n",
              "      <td>244243</td>\n",
              "    </tr>\n",
              "    <tr>\n",
              "      <th>12</th>\n",
              "      <td>Month-13</td>\n",
              "      <td>Region - B</td>\n",
              "      <td>Manager - A</td>\n",
              "      <td>145062</td>\n",
              "      <td>205180</td>\n",
              "    </tr>\n",
              "    <tr>\n",
              "      <th>18</th>\n",
              "      <td>Month-19</td>\n",
              "      <td>Region - B</td>\n",
              "      <td>Manager - A</td>\n",
              "      <td>132135</td>\n",
              "      <td>227040</td>\n",
              "    </tr>\n",
              "    <tr>\n",
              "      <th>20</th>\n",
              "      <td>Month-21</td>\n",
              "      <td>Region - B</td>\n",
              "      <td>Manager - A</td>\n",
              "      <td>147425</td>\n",
              "      <td>263388</td>\n",
              "    </tr>\n",
              "  </tbody>\n",
              "</table>\n",
              "</div>"
            ],
            "text/plain": [
              "       Month  ... Sales_After_digital_add(in $)\n",
              "2    Month-3  ...                        244243\n",
              "12  Month-13  ...                        205180\n",
              "18  Month-19  ...                        227040\n",
              "20  Month-21  ...                        263388\n",
              "\n",
              "[4 rows x 5 columns]"
            ]
          },
          "metadata": {},
          "execution_count": 11
        }
      ]
    },
    {
      "cell_type": "code",
      "source": [
        "t_valueN,p_valueN=stats.ttest_ind(RegionAMA['Sales_After_digital_add(in $)'],RegionBMA['Sales_After_digital_add(in $)'])"
      ],
      "metadata": {
        "id": "oJMFlO_U9Fd4"
      },
      "execution_count": null,
      "outputs": []
    },
    {
      "cell_type": "code",
      "source": [
        "print(\"t_value is \",t_valueN)\n",
        "print(\"p_value is \",p_valueN)"
      ],
      "metadata": {
        "colab": {
          "base_uri": "https://localhost:8080/"
        },
        "id": "qAS8ngjy9WYJ",
        "outputId": "b7a9c8a5-cc9c-448a-ecfd-dae3e07cd9f5"
      },
      "execution_count": null,
      "outputs": [
        {
          "output_type": "stream",
          "name": "stdout",
          "text": [
            "t_value is  1.4082356801019102\n",
            "p_value is  0.2087092562473296\n"
          ]
        }
      ]
    },
    {
      "cell_type": "markdown",
      "source": [
        "Since pvalue>0.05 we accept null hypothesis and conclude there is no dependency between the features “Region” and “Manager”."
      ],
      "metadata": {
        "id": "iLbwTnA12kgP"
      }
    }
  ]
}